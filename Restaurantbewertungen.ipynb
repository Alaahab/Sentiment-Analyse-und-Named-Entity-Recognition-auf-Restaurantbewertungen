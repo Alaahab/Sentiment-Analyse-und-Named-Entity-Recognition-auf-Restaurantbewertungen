{
 "cells": [
  {
   "cell_type": "markdown",
   "metadata": {},
   "source": [
    "### Bereinigung und Normalisierung aller Reviews"
   ]
  },
  {
   "cell_type": "code",
   "execution_count": 5,
   "metadata": {},
   "outputs": [],
   "source": [
    "import matplotlib.pyplot as plt\n",
    "import pandas as pd"
   ]
  },
  {
   "cell_type": "code",
   "execution_count": 6,
   "metadata": {},
   "outputs": [],
   "source": [
    "data = pd.read_csv(\"Restaurant_Reviews.tsv\", sep='\\t', quoting=3)"
   ]
  },
  {
   "cell_type": "code",
   "execution_count": 7,
   "metadata": {},
   "outputs": [
    {
     "data": {
      "text/html": [
       "<div>\n",
       "<style scoped>\n",
       "    .dataframe tbody tr th:only-of-type {\n",
       "        vertical-align: middle;\n",
       "    }\n",
       "\n",
       "    .dataframe tbody tr th {\n",
       "        vertical-align: top;\n",
       "    }\n",
       "\n",
       "    .dataframe thead th {\n",
       "        text-align: right;\n",
       "    }\n",
       "</style>\n",
       "<table border=\"1\" class=\"dataframe\">\n",
       "  <thead>\n",
       "    <tr style=\"text-align: right;\">\n",
       "      <th></th>\n",
       "      <th>Review</th>\n",
       "      <th>Liked</th>\n",
       "    </tr>\n",
       "  </thead>\n",
       "  <tbody>\n",
       "    <tr>\n",
       "      <th>0</th>\n",
       "      <td>Wow... Loved this place.</td>\n",
       "      <td>1</td>\n",
       "    </tr>\n",
       "    <tr>\n",
       "      <th>1</th>\n",
       "      <td>Crust is not good.</td>\n",
       "      <td>0</td>\n",
       "    </tr>\n",
       "    <tr>\n",
       "      <th>2</th>\n",
       "      <td>Not tasty and the texture was just nasty.</td>\n",
       "      <td>0</td>\n",
       "    </tr>\n",
       "    <tr>\n",
       "      <th>3</th>\n",
       "      <td>Stopped by during the late May bank holiday of...</td>\n",
       "      <td>1</td>\n",
       "    </tr>\n",
       "    <tr>\n",
       "      <th>4</th>\n",
       "      <td>The selection on the menu was great and so wer...</td>\n",
       "      <td>1</td>\n",
       "    </tr>\n",
       "  </tbody>\n",
       "</table>\n",
       "</div>"
      ],
      "text/plain": [
       "                                              Review  Liked\n",
       "0                           Wow... Loved this place.      1\n",
       "1                                 Crust is not good.      0\n",
       "2          Not tasty and the texture was just nasty.      0\n",
       "3  Stopped by during the late May bank holiday of...      1\n",
       "4  The selection on the menu was great and so wer...      1"
      ]
     },
     "execution_count": 7,
     "metadata": {},
     "output_type": "execute_result"
    }
   ],
   "source": [
    "data.head()"
   ]
  },
  {
   "cell_type": "code",
   "execution_count": 8,
   "metadata": {},
   "outputs": [
    {
     "data": {
      "text/plain": [
       "1    500\n",
       "0    500\n",
       "Name: Liked, dtype: int64"
      ]
     },
     "execution_count": 8,
     "metadata": {},
     "output_type": "execute_result"
    }
   ],
   "source": [
    "data['Liked'].value_counts()"
   ]
  },
  {
   "cell_type": "code",
   "execution_count": 9,
   "metadata": {},
   "outputs": [
    {
     "name": "stderr",
     "output_type": "stream",
     "text": [
      "[nltk_data] Downloading package stopwords to\n",
      "[nltk_data]     C:\\Users\\habou\\AppData\\Roaming\\nltk_data...\n",
      "[nltk_data]   Package stopwords is already up-to-date!\n"
     ]
    }
   ],
   "source": [
    "import re\n",
    "import nltk\n",
    "from nltk.corpus import stopwords\n",
    "from nltk.stem.porter import PorterStemmer\n",
    "\n",
    "nltk.download('stopwords')\n",
    "\n",
    "# Initialisierung des PorterStemmer\n",
    "ps = PorterStemmer()\n",
    "\n",
    "reviews = []\n",
    "# Schleife zur Bereinigung und Normalisierung aller Reviews\n",
    "for i in range(len(data)): \n",
    "    # Entfernung aller nicht alphabetischen Zeichen\n",
    "    review = re.sub('[^a-zA-Z]', ' ', data['Review'][i])\n",
    "    review = review.lower() \n",
    "    review = review.split() # Tokenisierung des Textes\n",
    "    # Stemming und Entfernung von Stopwords\n",
    "    review = [ps.stem(word) for word in review if word not in stopwords.words('english')]\n",
    "    review = \" \".join(review)\n",
    "    reviews.append(review)"
   ]
  },
  {
   "cell_type": "code",
   "execution_count": 6,
   "metadata": {},
   "outputs": [
    {
     "data": {
      "text/plain": [
       "['wow love place',\n",
       " 'crust good',\n",
       " 'tasti textur nasti',\n",
       " 'stop late may bank holiday rick steve recommend love',\n",
       " 'select menu great price']"
      ]
     },
     "execution_count": 6,
     "metadata": {},
     "output_type": "execute_result"
    }
   ],
   "source": [
    "reviews[0:5]"
   ]
  },
  {
   "cell_type": "markdown",
   "metadata": {},
   "source": [
    "### Verteilung der Bewertungen und Analyse der häufigsten Wörter"
   ]
  },
  {
   "cell_type": "code",
   "execution_count": 7,
   "metadata": {},
   "outputs": [
    {
     "data": {
      "image/png": "[encoded data removed]",
      "text/plain": [
       "<Figure size 640x480 with 1 Axes>"
      ]
     },
     "metadata": {},
     "output_type": "display_data"
    }
   ],
   "source": [
    "import matplotlib.pyplot as plt\n",
    "import seaborn as sns\n",
    "\n",
    "sns.countplot(x='Liked', data=data, hue=\"Liked\")\n",
    "plt.title(\"Verteilung der positiven und negativen Bewertungen\")\n",
    "plt.xlabel(\"Liked\")\n",
    "plt.ylabel(\"Anzahl der Bewertungen\")\n",
    "plt.show()"
   ]
  },
  {
   "cell_type": "code",
   "execution_count": 8,
   "metadata": {},
   "outputs": [
    {
     "data": {
      "image/png": "[encoded data removed]",
      "text/plain": [
       "<Figure size 640x480 with 1 Axes>"
      ]
     },
     "metadata": {},
     "output_type": "display_data"
    }
   ],
   "source": [
    "from collections import Counter\n",
    "\n",
    "# Häufigkeitsanalyse der normalisierten Wörter\n",
    "all_words = ' '.join(reviews).split()\n",
    "word_freq = Counter(all_words)\n",
    "common_words = word_freq.most_common(10)\n",
    "\n",
    "# Visualisierung der häufigsten Wörter\n",
    "words, counts = zip(*common_words)\n",
    "plt.bar(words, counts)\n",
    "plt.title(\"Häufigste Wörter in den Bewertungen\")\n",
    "plt.xlabel(\"Wörter\")\n",
    "plt.ylabel(\"Anzahl der Vorkommen\")\n",
    "plt.show()"
   ]
  },
  {
   "cell_type": "markdown",
   "metadata": {},
   "source": [
    "### 4.\tSentiment Analyse von Restaurantbewertungen"
   ]
  },
  {
   "cell_type": "markdown",
   "metadata": {},
   "source": [
    "#### 4.1.\tMachine Learning Ansätze (Naive Bayes)"
   ]
  },
  {
   "cell_type": "code",
   "execution_count": 9,
   "metadata": {},
   "outputs": [
    {
     "name": "stdout",
     "output_type": "stream",
     "text": [
      "Accuracy: 0.745\n",
      "Classification Report:\n",
      "               precision    recall  f1-score   support\n",
      "\n",
      "           0       0.73      0.75      0.74        96\n",
      "           1       0.76      0.74      0.75       104\n",
      "\n",
      "    accuracy                           0.74       200\n",
      "   macro avg       0.74      0.75      0.74       200\n",
      "weighted avg       0.75      0.74      0.75       200\n",
      "\n"
     ]
    }
   ],
   "source": [
    "from sklearn.feature_extraction.text import CountVectorizer\n",
    "from sklearn.model_selection import train_test_split\n",
    "from sklearn.naive_bayes import MultinomialNB\n",
    "from sklearn.metrics import accuracy_score, classification_report\n",
    "\n",
    "# Bag-of-Words Modell\n",
    "vectorizer = CountVectorizer(max_features=1500)\n",
    "X = vectorizer.fit_transform(reviews).toarray()\n",
    "y = data['Liked'].values\n",
    "\n",
    "# Daten in Trainings- und Testset aufteilen\n",
    "X_train, X_test, y_train, y_test = train_test_split(X, y, test_size=0.2, random_state=42)\n",
    "\n",
    "# Naive Bayes Modell trainieren\n",
    "nb_model = MultinomialNB()\n",
    "nb_model.fit(X_train, y_train)\n",
    "\n",
    "# Vorhersagen auf dem Testset\n",
    "y_pred = nb_model.predict(X_test)\n",
    "\n",
    "# Ergebnisse\n",
    "print(\"Accuracy:\", accuracy_score(y_test, y_pred))\n",
    "print(\"Classification Report:\\n\", classification_report(y_test, y_pred))\n"
   ]
  },
  {
   "cell_type": "markdown",
   "metadata": {},
   "source": [
    "### 4.2.\t  Implementierung eines LSTM-Modells"
   ]
  },
  {
   "cell_type": "code",
   "execution_count": 10,
   "metadata": {},
   "outputs": [
    {
     "name": "stdout",
     "output_type": "stream",
     "text": [
      "Epoch 1/5\n"
     ]
    },
    {
     "name": "stderr",
     "output_type": "stream",
     "text": [
      "C:\\Users\\habou\\AppData\\Roaming\\Python\\Python39\\site-packages\\keras\\src\\layers\\core\\embedding.py:90: UserWarning: Argument `input_length` is deprecated. Just remove it.\n",
      "  warnings.warn(\n"
     ]
    },
    {
     "name": "stdout",
     "output_type": "stream",
     "text": [
      "\u001b[1m13/13\u001b[0m \u001b[32m━━━━━━━━━━━━━━━━━━━━\u001b[0m\u001b[37m\u001b[0m \u001b[1m2s\u001b[0m 51ms/step - accuracy: 0.4805 - loss: 0.6933 - val_accuracy: 0.6900 - val_loss: 0.6877\n",
      "Epoch 2/5\n",
      "\u001b[1m13/13\u001b[0m \u001b[32m━━━━━━━━━━━━━━━━━━━━\u001b[0m\u001b[37m\u001b[0m \u001b[1m0s\u001b[0m 32ms/step - accuracy: 0.7450 - loss: 0.6772 - val_accuracy: 0.7150 - val_loss: 0.6722\n",
      "Epoch 3/5\n",
      "\u001b[1m13/13\u001b[0m \u001b[32m━━━━━━━━━━━━━━━━━━━━\u001b[0m\u001b[37m\u001b[0m \u001b[1m0s\u001b[0m 31ms/step - accuracy: 0.8015 - loss: 0.6278 - val_accuracy: 0.6150 - val_loss: 0.6391\n",
      "Epoch 4/5\n",
      "\u001b[1m13/13\u001b[0m \u001b[32m━━━━━━━━━━━━━━━━━━━━\u001b[0m\u001b[37m\u001b[0m \u001b[1m0s\u001b[0m 31ms/step - accuracy: 0.8187 - loss: 0.5071 - val_accuracy: 0.7150 - val_loss: 0.5556\n",
      "Epoch 5/5\n",
      "\u001b[1m13/13\u001b[0m \u001b[32m━━━━━━━━━━━━━━━━━━━━\u001b[0m\u001b[37m\u001b[0m \u001b[1m0s\u001b[0m 33ms/step - accuracy: 0.9156 - loss: 0.3288 - val_accuracy: 0.7500 - val_loss: 0.5249\n",
      "\u001b[1m7/7\u001b[0m \u001b[32m━━━━━━━━━━━━━━━━━━━━\u001b[0m\u001b[37m\u001b[0m \u001b[1m0s\u001b[0m 29ms/step\n",
      "LSTM Accuracy: 0.75\n",
      "Classification Report:\n",
      "               precision    recall  f1-score   support\n",
      "\n",
      "           0       0.73      0.77      0.75        96\n",
      "           1       0.78      0.73      0.75       104\n",
      "\n",
      "    accuracy                           0.75       200\n",
      "   macro avg       0.75      0.75      0.75       200\n",
      "weighted avg       0.75      0.75      0.75       200\n",
      "\n"
     ]
    }
   ],
   "source": [
    "import numpy as np\n",
    "from keras.models import Sequential\n",
    "from keras.layers import Embedding, LSTM, Dense, SpatialDropout1D\n",
    "from keras.preprocessing.sequence import pad_sequences\n",
    "from tensorflow.keras.preprocessing.text import Tokenizer\n",
    "from sklearn.model_selection import train_test_split\n",
    "from sklearn.metrics import accuracy_score, classification_report\n",
    "\n",
    "#from keras.preprocessing.text import Tokenizer\n",
    "\n",
    "# Tokenisierung und Sequenz-Padding\n",
    "tokenizer = Tokenizer(num_words=5000)\n",
    "tokenizer.fit_on_texts(reviews)\n",
    "X = tokenizer.texts_to_sequences(reviews)\n",
    "X = pad_sequences(X, maxlen=50)\n",
    "\n",
    "# Zielvariable (Labels)\n",
    "y = data['Liked'].values\n",
    "\n",
    "# Aufteilung der Daten in Trainings- und Testset\n",
    "X_train, X_test, y_train, y_test = train_test_split(X, y, test_size=0.2, random_state=42)\n",
    "\n",
    "# LSTM Modell erstellen\n",
    "lstm_model = Sequential()\n",
    "#Einbettungsschicht\n",
    "lstm_model.add(Embedding(input_dim=5000, output_dim=128, input_length=50))\n",
    "# Dropout Schicht\n",
    "lstm_model.add(SpatialDropout1D(0.2))\n",
    "# LSTM Schicht\n",
    "lstm_model.add(LSTM(100, dropout=0.2, recurrent_dropout=0.2))\n",
    "# Dichte Schicht\n",
    "lstm_model.add(Dense(1, activation='sigmoid'))\n",
    "# Kompilierung des Modells\n",
    "lstm_model.compile(loss='binary_crossentropy', optimizer='adam', metrics=['accuracy'])\n",
    "\n",
    "# Trainieren des LSTM Modells\n",
    "lstm_model.fit(X_train, y_train, epochs=5, batch_size=64, validation_data=(X_test, y_test))\n",
    "\n",
    "# Vorhersagen auf dem Testset\n",
    "y_pred_lstm = (lstm_model.predict(X_test) > 0.5).astype(\"int32\")\n",
    "\n",
    "# Ergebnisse auswerten\n",
    "print(\"LSTM Accuracy:\", accuracy_score(y_test, y_pred_lstm))\n",
    "print(\"Classification Report:\\n\", classification_report(y_test, y_pred_lstm))\n"
   ]
  },
  {
   "cell_type": "markdown",
   "metadata": {},
   "source": [
    "### 4.3.\tImplementierung Transformer-Modells (BERT)"
   ]
  },
  {
   "cell_type": "code",
   "execution_count": 3,
   "metadata": {},
   "outputs": [],
   "source": [
    "data_bert = pd.read_csv(\"Restaurant_Reviews.tsv\", sep='\\t', quoting=3)"
   ]
  },
  {
   "cell_type": "markdown",
   "metadata": {},
   "source": [
    "wenn es diese Fehler (ValueError: Could not interpret optimizer identifier: <keras.src.optimizers.adam.Adam object at 0x000002370F81B8E0>) kommt, bitte diese Command line ausführen (pip install --upgrade tensorflow transformers)"
   ]
  },
  {
   "cell_type": "code",
   "execution_count": 4,
   "metadata": {},
   "outputs": [
    {
     "name": "stderr",
     "output_type": "stream",
     "text": [
      "c:\\Users\\habou\\anaconda3\\lib\\site-packages\\scipy\\__init__.py:155: UserWarning: A NumPy version >=1.18.5 and <1.25.0 is required for this version of SciPy (detected version 1.26.4\n",
      "  warnings.warn(f\"A NumPy version >={np_minversion} and <{np_maxversion}\"\n"
     ]
    },
    {
     "name": "stdout",
     "output_type": "stream",
     "text": [
      "WARNING:tensorflow:From c:\\Users\\habou\\anaconda3\\lib\\site-packages\\tf_keras\\src\\losses.py:2976: The name tf.losses.sparse_softmax_cross_entropy is deprecated. Please use tf.compat.v1.losses.sparse_softmax_cross_entropy instead.\n",
      "\n"
     ]
    },
    {
     "name": "stderr",
     "output_type": "stream",
     "text": [
      "c:\\Users\\habou\\anaconda3\\lib\\site-packages\\transformers\\tokenization_utils_base.py:1601: FutureWarning: `clean_up_tokenization_spaces` was not set. It will be set to `True` by default. This behavior will be depracted in transformers v4.45, and will be then set to `False` by default. For more details check this issue: https://github.com/huggingface/transformers/issues/31884\n",
      "  warnings.warn(\n"
     ]
    },
    {
     "name": "stdout",
     "output_type": "stream",
     "text": [
      "WARNING:tensorflow:From c:\\Users\\habou\\anaconda3\\lib\\site-packages\\tf_keras\\src\\backend.py:873: The name tf.get_default_graph is deprecated. Please use tf.compat.v1.get_default_graph instead.\n",
      "\n"
     ]
    },
    {
     "name": "stderr",
     "output_type": "stream",
     "text": [
      "All PyTorch model weights were used when initializing TFBertForSequenceClassification.\n",
      "\n",
      "Some weights or buffers of the TF 2.0 model TFBertForSequenceClassification were not initialized from the PyTorch model and are newly initialized: ['classifier.weight', 'classifier.bias']\n",
      "You should probably TRAIN this model on a down-stream task to be able to use it for predictions and inference.\n"
     ]
    },
    {
     "name": "stdout",
     "output_type": "stream",
     "text": [
      "Epoch 1/3\n",
      "WARNING:tensorflow:From c:\\Users\\habou\\anaconda3\\lib\\site-packages\\tf_keras\\src\\utils\\tf_utils.py:492: The name tf.ragged.RaggedTensorValue is deprecated. Please use tf.compat.v1.ragged.RaggedTensorValue instead.\n",
      "\n",
      "WARNING:tensorflow:From c:\\Users\\habou\\anaconda3\\lib\\site-packages\\tf_keras\\src\\engine\\base_layer_utils.py:384: The name tf.executing_eagerly_outside_functions is deprecated. Please use tf.compat.v1.executing_eagerly_outside_functions instead.\n",
      "\n",
      "50/50 [==============================] - 129s 2s/step - loss: 0.5201 - accuracy: 0.7788 - val_loss: 0.3179 - val_accuracy: 0.9050\n",
      "Epoch 2/3\n",
      "50/50 [==============================] - 129s 3s/step - loss: 0.1751 - accuracy: 0.9500 - val_loss: 0.2296 - val_accuracy: 0.9100\n",
      "Epoch 3/3\n",
      "50/50 [==============================] - 122s 2s/step - loss: 0.0849 - accuracy: 0.9712 - val_loss: 0.1366 - val_accuracy: 0.9400\n"
     ]
    },
    {
     "data": {
      "text/plain": [
       "<tf_keras.src.callbacks.History at 0x268085fe580>"
      ]
     },
     "execution_count": 4,
     "metadata": {},
     "output_type": "execute_result"
    }
   ],
   "source": [
    "from transformers import BertTokenizer, TFBertForSequenceClassification\n",
    "from sklearn.model_selection import train_test_split\n",
    "import tensorflow as tf\n",
    "import numpy as np\n",
    "\n",
    "reviews_bert = data_bert['Review'].tolist()\n",
    "\n",
    "#BERT-Tokenizer laden\n",
    "tokenizer = BertTokenizer.from_pretrained('bert-base-uncased')\n",
    "# Tokenisierung der Texte\n",
    "X_encoded = tokenizer(reviews_bert, padding=True, truncation=True, max_length=128, return_tensors='tf')\n",
    "\n",
    "# Zielvariable\n",
    "y = data_bert['Liked'].values\n",
    "\n",
    "# Umwandlung der Tensoren in numpy bArrays\n",
    "X_input_ids = X_encoded['input_ids'].numpy()\n",
    "X_attention_masks = X_encoded['attention_mask'].numpy()\n",
    "\n",
    "# Aufteilung der Daten\n",
    "X_train_input_ids, X_test_input_ids, X_train_attention_masks, X_test_attention_masks, y_train, y_test = train_test_split(\n",
    "    X_input_ids, X_attention_masks, y, test_size=0.2, random_state=42)\n",
    "\n",
    "# BERT Modell für die Klassifikation laden\n",
    "bert_model = TFBertForSequenceClassification.from_pretrained('bert-base-uncased', num_labels=2)\n",
    "\n",
    "# Kompilierung des Modells\n",
    "bert_model.compile(optimizer=tf.keras.optimizers.Adam(learning_rate=2e-5), \n",
    "                   loss=tf.keras.losses.SparseCategoricalCrossentropy(from_logits=True), \n",
    "                   metrics=['accuracy'])\n",
    "\n",
    "# Training des Modells\n",
    "bert_model.fit([X_train_input_ids, X_train_attention_masks], y_train, \n",
    "               epochs=3, batch_size=16, validation_data=([X_test_input_ids, X_test_attention_masks], y_test))"
   ]
  },
  {
   "cell_type": "markdown",
   "metadata": {},
   "source": [
    "#### wenn diese Fehler (ValueError: Could not interpret optimizer identifier: <keras.src.optimizers.adam.Adam object at 0x000002370F81B8E0>) gibt, bitte diese Command line (pip install --upgrade tensorflow transformers) ausführen."
   ]
  },
  {
   "cell_type": "code",
   "execution_count": 5,
   "metadata": {},
   "outputs": [
    {
     "name": "stdout",
     "output_type": "stream",
     "text": [
      "7/7 [==============================] - 9s 986ms/step\n"
     ]
    }
   ],
   "source": [
    "# Vorhersagen auf dem Testset\n",
    "y_pred_bert_logits = bert_model.predict([X_test_input_ids, X_test_attention_masks]).logits\n",
    "\n",
    "# Umwandlung der Logits in binäre Labels\n",
    "y_pred_labels = tf.argmax(y_pred_bert_logits, axis=1).numpy()"
   ]
  },
  {
   "cell_type": "code",
   "execution_count": 6,
   "metadata": {},
   "outputs": [
    {
     "name": "stdout",
     "output_type": "stream",
     "text": [
      "BERT Accuracy: 0.94\n",
      "Classification Report:\n",
      "               precision    recall  f1-score   support\n",
      "\n",
      "    Negative       0.97      0.91      0.94        96\n",
      "    Positive       0.92      0.97      0.94       104\n",
      "\n",
      "    accuracy                           0.94       200\n",
      "   macro avg       0.94      0.94      0.94       200\n",
      "weighted avg       0.94      0.94      0.94       200\n",
      "\n"
     ]
    }
   ],
   "source": [
    "from sklearn.metrics import accuracy_score, classification_report\n",
    "\n",
    "# Berechnung der Accuracy\n",
    "accuracy = accuracy_score(y_test, y_pred_labels)\n",
    "print(f\"BERT Accuracy: {accuracy:.2f}\")\n",
    "\n",
    "# Detaillierter Classification Report\n",
    "classification_rep = classification_report(y_test, y_pred_labels, target_names=['Negative', 'Positive'])\n",
    "print(\"Classification Report:\\n\", classification_rep)"
   ]
  },
  {
   "cell_type": "markdown",
   "metadata": {},
   "source": [
    "## 5.\tNamed Entity Recognition (NER) auf Restaurantbewertungen"
   ]
  },
  {
   "cell_type": "markdown",
   "metadata": {},
   "source": [
    "### 5.1.1.\tVorbereitung der Trainingsdaten"
   ]
  },
  {
   "cell_type": "code",
   "execution_count": 1,
   "metadata": {},
   "outputs": [],
   "source": [
    "#  Trainingsdaten\n",
    "TRAIN_DATA = [\n",
    "    (\"Wow... Loved this place.\", {\"entities\": []}),\n",
    "    (\"Crust is not good.\", {\"entities\": []}),\n",
    "    (\"Not tasty and the texture was just nasty.\", {\"entities\": []}),\n",
    "    (\"Stopped by during the late May bank holiday off Rick Steve recommendation and loved it.\", {\"entities\": []}),\n",
    "    (\"The selection on the menu was great and so were the prices.\", {\"entities\": []}),\n",
    "    (\"I ordered a Margherita Pizza at Joe's Pizza in New York.\", {\"entities\": [(12, 29, \"DISH\"), (33, 44, \"RESTAURANT\"), (48, 56, \"LOCATION\")]}),\n",
    "    (\"The pasta at Luigi's was delicious.\", {\"entities\": [(4, 9, \"DISH\"), (13, 20, \"RESTAURANT\")]}),\n",
    "    (\"The food at Spago in Los Angeles is simply the best!\", {\"entities\": [(12, 17, \"RESTAURANT\"), (21, 32, \"LOCATION\")]}),\n",
    "    (\"Enjoyed a wonderful sushi dinner at Sushi Place.\", {\"entities\": [(30, 40, \"RESTAURANT\"), (18, 23, \"DISH\")]}),\n",
    "    (\"The pizza at Mario's in Rome was disappointing.\", {\"entities\": [(9, 16, \"DISH\"), (20, 26, \"RESTAURANT\"), (30, 34, \"LOCATION\")]}),\n",
    "    (\"We had a great time at The Ivy in London.\", {\"entities\": [(23, 30, \"RESTAURANT\"), (34, 40, \"LOCATION\")]}),\n",
    "    (\"The steak at Outback Steakhouse is always good.\", {\"entities\": [(4, 9, \"DISH\"), (13, 30, \"RESTAURANT\")]}),\n",
    "    (\"Had lunch at Nobu in Malibu. Delicious!\", {\"entities\": [(13, 17, \"RESTAURANT\"), (21, 27, \"LOCATION\")]}),\n",
    "    (\"The Caesar salad at Caesar's Palace was great.\", {\"entities\": [(4, 16, \"DISH\"), (20, 34, \"RESTAURANT\")]}),\n",
    "    (\"The best ramen in Tokyo can be found at Ichiran.\", {\"entities\": [(9, 14, \"DISH\"), (18, 23, \"LOCATION\"), (41, 48, \"RESTAURANT\")]}),\n",
    "    (\"Tried the pasta at Olive Garden. It was mediocre.\", {\"entities\": [(10, 15, \"DISH\"), (19, 31, \"RESTAURANT\")]}),\n",
    "    (\"I had a fantastic brunch at The Diner in Chicago.\", {\"entities\": [(20, 30, \"DISH\"), (34, 43, \"RESTAURANT\"), (47, 54, \"LOCATION\")]}),\n",
    "    (\"Dinner at The French Laundry was a culinary experience.\", {\"entities\": [(7, 22, \"RESTAURANT\")]}),\n",
    "    (\"Breakfast at Tiffany's is a classic!\", {\"entities\": [(12, 21, \"RESTAURANT\")]}),\n",
    "    (\"The gelato in Florence is the best in Italy.\", {\"entities\": [(4, 10, \"DISH\"), (14, 22, \"LOCATION\")]}),\n",
    "    (\"The curry at Indian Palace is quite good.\", {\"entities\": [(4, 9, \"DISH\"), (13, 25, \"RESTAURANT\")]}),\n",
    "    (\"Lunch at Momofuku in NYC was splendid.\", {\"entities\": [(10, 18, \"RESTAURANT\"), (22, 25, \"LOCATION\")]}),\n",
    "    (\"The tapas at Barcelona was delicious.\", {\"entities\": [(4, 9, \"DISH\"), (13, 22, \"RESTAURANT\")]}),\n",
    "    (\"Sashimi at Nobu in Tokyo is top-notch.\", {\"entities\": [(0, 7, \"DISH\"), (11, 15, \"RESTAURANT\"), (19, 24, \"LOCATION\")]}),\n",
    "    (\"Pho at Pho 24 in Ho Chi Minh City is amazing.\", {\"entities\": [(0, 3, \"DISH\"), (7, 13, \"RESTAURANT\"), (17, 32, \"LOCATION\")]}),\n",
    "    (\"The burger at Shake Shack is overrated.\", {\"entities\": [(4, 10, \"DISH\"), (14, 25, \"RESTAURANT\")]}),\n",
    "    (\"Pizza at Pizzeria Bianco in Phoenix was heavenly.\", {\"entities\": [(0, 5, \"DISH\"), (9, 24, \"RESTAURANT\"), (28, 35, \"LOCATION\")]}),\n",
    "    (\"Pad Thai at Thai House in Bangkok is a must-try.\", {\"entities\": [(0, 8, \"DISH\"), (12, 22, \"RESTAURANT\"), (26, 33, \"LOCATION\")]}),\n",
    "    (\"I love the tacos at Taqueria Cancun in SF.\", {\"entities\": [(10, 15, \"DISH\"), (19, 35, \"RESTAURANT\"), (39, 41, \"LOCATION\")]}),\n",
    "    (\"The cheesecake at Junior's in Brooklyn is to die for.\", {\"entities\": [(4, 14, \"DISH\"), (18, 25, \"RESTAURANT\"), (29, 37, \"LOCATION\")]}),\n",
    "    (\"The best sushi in Japan can be found at Sushi Saito.\", {\"entities\": [(9, 14, \"DISH\"), (18, 23, \"LOCATION\"), (41, 52, \"RESTAURANT\")]}),\n",
    "    (\"Dim sum at Tim Ho Wan in Hong Kong is fantastic.\", {\"entities\": [(0, 7, \"DISH\"), (11, 21, \"RESTAURANT\"), (25, 34, \"LOCATION\")]}),\n",
    "    (\"Bagels at Ess-a-Bagel in NYC are a treat.\", {\"entities\": [(0, 6, \"DISH\"), (10, 22, \"RESTAURANT\"), (26, 29, \"LOCATION\")]}),\n",
    "    (\"The dumplings at Din Tai Fung in Shanghai are a delight.\", {\"entities\": [(4, 13, \"DISH\"), (17, 29, \"RESTAURANT\"), (33, 41, \"LOCATION\")]}),\n",
    "    (\"Sushi at Sushi Yasuda in NYC is my favorite.\", {\"entities\": [(0, 5, \"DISH\"), (9, 21, \"RESTAURANT\"), (25, 28, \"LOCATION\")]}),\n",
    "    (\"The burger at In-N-Out in LA is unbeatable.\", {\"entities\": [(4, 10, \"DISH\"), (14, 23, \"RESTAURANT\"), (27, 29, \"LOCATION\")]}),\n",
    "    (\"The lobster roll at Red's Eats in Maine is the best.\", {\"entities\": [(4, 16, \"DISH\"), (20, 30, \"RESTAURANT\"), (34, 39, \"LOCATION\")]}),\n",
    "    (\"The best paella in Spain is at La Barraca.\", {\"entities\": [(9, 15, \"DISH\"), (19, 24, \"LOCATION\"), (31, 41, \"RESTAURANT\")]}),\n",
    "    (\"Chili crab at Jumbo Seafood in Singapore is famous.\", {\"entities\": [(0, 10, \"DISH\"), (14, 27, \"RESTAURANT\"), (31, 40, \"LOCATION\")]}),\n",
    "    (\"The fried chicken at Roscoe's in LA is legendary.\", {\"entities\": [(4, 17, \"DISH\"), (21, 29, \"RESTAURANT\"), (33, 35, \"LOCATION\")]}),\n",
    "    (\"Ramen at Ippudo in NYC is always satisfying.\", {\"entities\": [(0, 5, \"DISH\"), (9, 15, \"RESTAURANT\"), (19, 22, \"LOCATION\")]}),\n",
    "    (\"The pho at Pho Hoa in Vietnam is simply divine.\", {\"entities\": [(4, 7, \"DISH\"), (11, 19, \"RESTAURANT\"), (23, 30, \"LOCATION\")]}),\n",
    "    (\"I adore the gelato at Grom in Florence.\", {\"entities\": [(12, 18, \"DISH\"), (22, 26, \"RESTAURANT\"), (30, 38, \"LOCATION\")]}),\n",
    "    (\"The best burritos in SF are at La Taqueria.\", {\"entities\": [(9, 17, \"DISH\"), (21, 23, \"LOCATION\"), (31, 42, \"RESTAURANT\")]}),\n",
    "    (\"The pancakes at IHOP in Chicago are my guilty pleasure.\", {\"entities\": [(4, 13, \"DISH\"), (17, 21, \"RESTAURANT\"), (25, 32, \"LOCATION\")]}),\n",
    "    (\"Tacos at El Farolito in SF are unmatched.\", {\"entities\": [(0, 5, \"DISH\"), (9, 21, \"RESTAURANT\"), (25, 27, \"LOCATION\")]}),\n",
    "]\n"
   ]
  },
  {
   "cell_type": "markdown",
   "metadata": {},
   "source": [
    "#### wenn diese Fehler (ImportError: cannot import name 'soft_unicode' from 'markupsafe' ) gibt, bitte diese Command line (pip install markupsafe==2.0.1) ausführen."
   ]
  },
  {
   "cell_type": "markdown",
   "metadata": {},
   "source": [
    "### 5.1.2.\tModell Implementierung "
   ]
  },
  {
   "cell_type": "code",
   "execution_count": 2,
   "metadata": {},
   "outputs": [
    {
     "name": "stderr",
     "output_type": "stream",
     "text": [
      "c:\\Users\\habou\\anaconda3\\lib\\site-packages\\spacy\\training\\iob_utils.py:149: UserWarning: [W030] Some entities could not be aligned in the text \"The best sushi in Japan can be found at Sushi Sait...\" with entities \"[(9, 14, 'DISH'), (18, 23, 'LOCATION'), (41, 52, '...\". Use `spacy.training.offsets_to_biluo_tags(nlp.make_doc(text), entities)` to check the alignment. Misaligned entities ('-') will be ignored during training.\n",
      "  warnings.warn(\n",
      "c:\\Users\\habou\\anaconda3\\lib\\site-packages\\spacy\\training\\iob_utils.py:149: UserWarning: [W030] Some entities could not be aligned in the text \"The burger at In-N-Out in LA is unbeatable.\" with entities \"[(4, 10, 'DISH'), (14, 23, 'RESTAURANT'), (27, 29,...\". Use `spacy.training.offsets_to_biluo_tags(nlp.make_doc(text), entities)` to check the alignment. Misaligned entities ('-') will be ignored during training.\n",
      "  warnings.warn(\n",
      "c:\\Users\\habou\\anaconda3\\lib\\site-packages\\spacy\\training\\iob_utils.py:149: UserWarning: [W030] Some entities could not be aligned in the text \"Bagels at Ess-a-Bagel in NYC are a treat.\" with entities \"[(0, 6, 'DISH'), (10, 22, 'RESTAURANT'), (26, 29, ...\". Use `spacy.training.offsets_to_biluo_tags(nlp.make_doc(text), entities)` to check the alignment. Misaligned entities ('-') will be ignored during training.\n",
      "  warnings.warn(\n",
      "c:\\Users\\habou\\anaconda3\\lib\\site-packages\\spacy\\training\\iob_utils.py:149: UserWarning: [W030] Some entities could not be aligned in the text \"Pho at Pho 24 in Ho Chi Minh City is amazing.\" with entities \"[(0, 3, 'DISH'), (7, 13, 'RESTAURANT'), (17, 32, '...\". Use `spacy.training.offsets_to_biluo_tags(nlp.make_doc(text), entities)` to check the alignment. Misaligned entities ('-') will be ignored during training.\n",
      "  warnings.warn(\n",
      "c:\\Users\\habou\\anaconda3\\lib\\site-packages\\spacy\\training\\iob_utils.py:149: UserWarning: [W030] Some entities could not be aligned in the text \"I ordered a Margherita Pizza at Joe's Pizza in New...\" with entities \"[(12, 29, 'DISH'), (33, 44, 'RESTAURANT'), (48, 56...\". Use `spacy.training.offsets_to_biluo_tags(nlp.make_doc(text), entities)` to check the alignment. Misaligned entities ('-') will be ignored during training.\n",
      "  warnings.warn(\n",
      "c:\\Users\\habou\\anaconda3\\lib\\site-packages\\spacy\\training\\iob_utils.py:149: UserWarning: [W030] Some entities could not be aligned in the text \"I love the tacos at Taqueria Cancun in SF.\" with entities \"[(10, 15, 'DISH'), (19, 35, 'RESTAURANT'), (39, 41...\". Use `spacy.training.offsets_to_biluo_tags(nlp.make_doc(text), entities)` to check the alignment. Misaligned entities ('-') will be ignored during training.\n",
      "  warnings.warn(\n",
      "c:\\Users\\habou\\anaconda3\\lib\\site-packages\\spacy\\training\\iob_utils.py:149: UserWarning: [W030] Some entities could not be aligned in the text \"I had a fantastic brunch at The Diner in Chicago.\" with entities \"[(20, 30, 'DISH'), (34, 43, 'RESTAURANT'), (47, 54...\". Use `spacy.training.offsets_to_biluo_tags(nlp.make_doc(text), entities)` to check the alignment. Misaligned entities ('-') will be ignored during training.\n",
      "  warnings.warn(\n",
      "c:\\Users\\habou\\anaconda3\\lib\\site-packages\\spacy\\training\\iob_utils.py:149: UserWarning: [W030] Some entities could not be aligned in the text \"The best ramen in Tokyo can be found at Ichiran.\" with entities \"[(9, 14, 'DISH'), (18, 23, 'LOCATION'), (41, 48, '...\". Use `spacy.training.offsets_to_biluo_tags(nlp.make_doc(text), entities)` to check the alignment. Misaligned entities ('-') will be ignored during training.\n",
      "  warnings.warn(\n",
      "c:\\Users\\habou\\anaconda3\\lib\\site-packages\\spacy\\training\\iob_utils.py:149: UserWarning: [W030] Some entities could not be aligned in the text \"The pho at Pho Hoa in Vietnam is simply divine.\" with entities \"[(4, 7, 'DISH'), (11, 19, 'RESTAURANT'), (23, 30, ...\". Use `spacy.training.offsets_to_biluo_tags(nlp.make_doc(text), entities)` to check the alignment. Misaligned entities ('-') will be ignored during training.\n",
      "  warnings.warn(\n",
      "c:\\Users\\habou\\anaconda3\\lib\\site-packages\\spacy\\training\\iob_utils.py:149: UserWarning: [W030] Some entities could not be aligned in the text \"The steak at Outback Steakhouse is always good.\" with entities \"[(4, 9, 'DISH'), (13, 30, 'RESTAURANT')]\". Use `spacy.training.offsets_to_biluo_tags(nlp.make_doc(text), entities)` to check the alignment. Misaligned entities ('-') will be ignored during training.\n",
      "  warnings.warn(\n",
      "c:\\Users\\habou\\anaconda3\\lib\\site-packages\\spacy\\training\\iob_utils.py:149: UserWarning: [W030] Some entities could not be aligned in the text \"The pizza at Mario's in Rome was disappointing.\" with entities \"[(9, 16, 'DISH'), (20, 26, 'RESTAURANT'), (30, 34,...\". Use `spacy.training.offsets_to_biluo_tags(nlp.make_doc(text), entities)` to check the alignment. Misaligned entities ('-') will be ignored during training.\n",
      "  warnings.warn(\n",
      "c:\\Users\\habou\\anaconda3\\lib\\site-packages\\spacy\\training\\iob_utils.py:149: UserWarning: [W030] Some entities could not be aligned in the text \"The pancakes at IHOP in Chicago are my guilty plea...\" with entities \"[(4, 13, 'DISH'), (17, 21, 'RESTAURANT'), (25, 32,...\". Use `spacy.training.offsets_to_biluo_tags(nlp.make_doc(text), entities)` to check the alignment. Misaligned entities ('-') will be ignored during training.\n",
      "  warnings.warn(\n",
      "c:\\Users\\habou\\anaconda3\\lib\\site-packages\\spacy\\training\\iob_utils.py:149: UserWarning: [W030] Some entities could not be aligned in the text \"Lunch at Momofuku in NYC was splendid.\" with entities \"[(10, 18, 'RESTAURANT'), (22, 25, 'LOCATION')]\". Use `spacy.training.offsets_to_biluo_tags(nlp.make_doc(text), entities)` to check the alignment. Misaligned entities ('-') will be ignored during training.\n",
      "  warnings.warn(\n",
      "c:\\Users\\habou\\anaconda3\\lib\\site-packages\\spacy\\training\\iob_utils.py:149: UserWarning: [W030] Some entities could not be aligned in the text \"The curry at Indian Palace is quite good.\" with entities \"[(4, 9, 'DISH'), (13, 25, 'RESTAURANT')]\". Use `spacy.training.offsets_to_biluo_tags(nlp.make_doc(text), entities)` to check the alignment. Misaligned entities ('-') will be ignored during training.\n",
      "  warnings.warn(\n",
      "c:\\Users\\habou\\anaconda3\\lib\\site-packages\\spacy\\training\\iob_utils.py:149: UserWarning: [W030] Some entities could not be aligned in the text \"Tacos at El Farolito in SF are unmatched.\" with entities \"[(0, 5, 'DISH'), (9, 21, 'RESTAURANT'), (25, 27, '...\". Use `spacy.training.offsets_to_biluo_tags(nlp.make_doc(text), entities)` to check the alignment. Misaligned entities ('-') will be ignored during training.\n",
      "  warnings.warn(\n",
      "c:\\Users\\habou\\anaconda3\\lib\\site-packages\\spacy\\training\\iob_utils.py:149: UserWarning: [W030] Some entities could not be aligned in the text \"The cheesecake at Junior's in Brooklyn is to die f...\" with entities \"[(4, 14, 'DISH'), (18, 25, 'RESTAURANT'), (29, 37,...\". Use `spacy.training.offsets_to_biluo_tags(nlp.make_doc(text), entities)` to check the alignment. Misaligned entities ('-') will be ignored during training.\n",
      "  warnings.warn(\n",
      "c:\\Users\\habou\\anaconda3\\lib\\site-packages\\spacy\\training\\iob_utils.py:149: UserWarning: [W030] Some entities could not be aligned in the text \"Breakfast at Tiffany's is a classic!\" with entities \"[(12, 21, 'RESTAURANT')]\". Use `spacy.training.offsets_to_biluo_tags(nlp.make_doc(text), entities)` to check the alignment. Misaligned entities ('-') will be ignored during training.\n",
      "  warnings.warn(\n",
      "c:\\Users\\habou\\anaconda3\\lib\\site-packages\\spacy\\training\\iob_utils.py:149: UserWarning: [W030] Some entities could not be aligned in the text \"Dinner at The French Laundry was a culinary experi...\" with entities \"[(7, 22, 'RESTAURANT')]\". Use `spacy.training.offsets_to_biluo_tags(nlp.make_doc(text), entities)` to check the alignment. Misaligned entities ('-') will be ignored during training.\n",
      "  warnings.warn(\n",
      "c:\\Users\\habou\\anaconda3\\lib\\site-packages\\spacy\\training\\iob_utils.py:149: UserWarning: [W030] Some entities could not be aligned in the text \"Enjoyed a wonderful sushi dinner at Sushi Place.\" with entities \"[(30, 40, 'RESTAURANT'), (18, 23, 'DISH')]\". Use `spacy.training.offsets_to_biluo_tags(nlp.make_doc(text), entities)` to check the alignment. Misaligned entities ('-') will be ignored during training.\n",
      "  warnings.warn(\n",
      "c:\\Users\\habou\\anaconda3\\lib\\site-packages\\spacy\\training\\iob_utils.py:149: UserWarning: [W030] Some entities could not be aligned in the text \"The Caesar salad at Caesar's Palace was great.\" with entities \"[(4, 16, 'DISH'), (20, 34, 'RESTAURANT')]\". Use `spacy.training.offsets_to_biluo_tags(nlp.make_doc(text), entities)` to check the alignment. Misaligned entities ('-') will be ignored during training.\n",
      "  warnings.warn(\n"
     ]
    },
    {
     "name": "stdout",
     "output_type": "stream",
     "text": [
      "Iteration 0, Losses {'tok2vec': 0.0, 'tagger': 0.0, 'parser': 0.0, 'ner': 365.09175242390484}\n",
      "Iteration 1, Losses {'tok2vec': 0.0, 'tagger': 0.0, 'parser': 0.0, 'ner': 191.57750236976062}\n",
      "Iteration 2, Losses {'tok2vec': 0.0, 'tagger': 0.0, 'parser': 0.0, 'ner': 124.84704045756234}\n",
      "Iteration 3, Losses {'tok2vec': 0.0, 'tagger': 0.0, 'parser': 0.0, 'ner': 112.73504202740503}\n",
      "Iteration 4, Losses {'tok2vec': 0.0, 'tagger': 0.0, 'parser': 0.0, 'ner': 141.18254098415446}\n",
      "Iteration 5, Losses {'tok2vec': 0.0, 'tagger': 0.0, 'parser': 0.0, 'ner': 138.62114112103745}\n",
      "Iteration 6, Losses {'tok2vec': 0.0, 'tagger': 0.0, 'parser': 0.0, 'ner': 87.03306180674285}\n",
      "Iteration 7, Losses {'tok2vec': 0.0, 'tagger': 0.0, 'parser': 0.0, 'ner': 75.54610629003669}\n",
      "Iteration 8, Losses {'tok2vec': 0.0, 'tagger': 0.0, 'parser': 0.0, 'ner': 72.31564820845514}\n",
      "Iteration 9, Losses {'tok2vec': 0.0, 'tagger': 0.0, 'parser': 0.0, 'ner': 57.424152378129186}\n",
      "Iteration 10, Losses {'tok2vec': 0.0, 'tagger': 0.0, 'parser': 0.0, 'ner': 58.82808381919677}\n",
      "Iteration 11, Losses {'tok2vec': 0.0, 'tagger': 0.0, 'parser': 0.0, 'ner': 47.407603758276515}\n",
      "Iteration 12, Losses {'tok2vec': 0.0, 'tagger': 0.0, 'parser': 0.0, 'ner': 40.577065264827375}\n",
      "Iteration 13, Losses {'tok2vec': 0.0, 'tagger': 0.0, 'parser': 0.0, 'ner': 39.24111884371173}\n",
      "Iteration 14, Losses {'tok2vec': 0.0, 'tagger': 0.0, 'parser': 0.0, 'ner': 36.54136101339448}\n",
      "Iteration 15, Losses {'tok2vec': 0.0, 'tagger': 0.0, 'parser': 0.0, 'ner': 59.78747794420987}\n",
      "Iteration 16, Losses {'tok2vec': 0.0, 'tagger': 0.0, 'parser': 0.0, 'ner': 31.302199174513888}\n",
      "Iteration 17, Losses {'tok2vec': 0.0, 'tagger': 0.0, 'parser': 0.0, 'ner': 32.41188691645176}\n",
      "Iteration 18, Losses {'tok2vec': 0.0, 'tagger': 0.0, 'parser': 0.0, 'ner': 34.04078810663029}\n",
      "Iteration 19, Losses {'tok2vec': 0.0, 'tagger': 0.0, 'parser': 0.0, 'ner': 29.60413387019617}\n",
      "Iteration 20, Losses {'tok2vec': 0.0, 'tagger': 0.0, 'parser': 0.0, 'ner': 28.56926561831278}\n",
      "Iteration 21, Losses {'tok2vec': 0.0, 'tagger': 0.0, 'parser': 0.0, 'ner': 26.973898072515084}\n",
      "Iteration 22, Losses {'tok2vec': 0.0, 'tagger': 0.0, 'parser': 0.0, 'ner': 22.071518067940747}\n",
      "Iteration 23, Losses {'tok2vec': 0.0, 'tagger': 0.0, 'parser': 0.0, 'ner': 18.88228235458347}\n",
      "Iteration 24, Losses {'tok2vec': 0.0, 'tagger': 0.0, 'parser': 0.0, 'ner': 22.522717761871352}\n",
      "Iteration 25, Losses {'tok2vec': 0.0, 'tagger': 0.0, 'parser': 0.0, 'ner': 27.267433299968747}\n",
      "Iteration 26, Losses {'tok2vec': 0.0, 'tagger': 0.0, 'parser': 0.0, 'ner': 15.83359860795137}\n",
      "Iteration 27, Losses {'tok2vec': 0.0, 'tagger': 0.0, 'parser': 0.0, 'ner': 18.018693674184306}\n",
      "Iteration 28, Losses {'tok2vec': 0.0, 'tagger': 0.0, 'parser': 0.0, 'ner': 14.903466067900201}\n",
      "Iteration 29, Losses {'tok2vec': 0.0, 'tagger': 0.0, 'parser': 0.0, 'ner': 15.478951628067284}\n",
      "Iteration 30, Losses {'tok2vec': 0.0, 'tagger': 0.0, 'parser': 0.0, 'ner': 14.629109435254778}\n",
      "Iteration 31, Losses {'tok2vec': 0.0, 'tagger': 0.0, 'parser': 0.0, 'ner': 12.586639040661495}\n",
      "Iteration 32, Losses {'tok2vec': 0.0, 'tagger': 0.0, 'parser': 0.0, 'ner': 20.545020654623354}\n",
      "Iteration 33, Losses {'tok2vec': 0.0, 'tagger': 0.0, 'parser': 0.0, 'ner': 11.12642924721114}\n",
      "Iteration 34, Losses {'tok2vec': 0.0, 'tagger': 0.0, 'parser': 0.0, 'ner': 6.114749113802114}\n",
      "Iteration 35, Losses {'tok2vec': 0.0, 'tagger': 0.0, 'parser': 0.0, 'ner': 16.62112887060047}\n",
      "Iteration 36, Losses {'tok2vec': 0.0, 'tagger': 0.0, 'parser': 0.0, 'ner': 3.1506667039220155}\n",
      "Iteration 37, Losses {'tok2vec': 0.0, 'tagger': 0.0, 'parser': 0.0, 'ner': 5.948336727600643}\n",
      "Iteration 38, Losses {'tok2vec': 0.0, 'tagger': 0.0, 'parser': 0.0, 'ner': 6.601549916961365}\n",
      "Iteration 39, Losses {'tok2vec': 0.0, 'tagger': 0.0, 'parser': 0.0, 'ner': 6.417634164849902}\n",
      "Iteration 40, Losses {'tok2vec': 0.0, 'tagger': 0.0, 'parser': 0.0, 'ner': 10.52275743521474}\n",
      "Iteration 41, Losses {'tok2vec': 0.0, 'tagger': 0.0, 'parser': 0.0, 'ner': 2.260292748129922}\n",
      "Iteration 42, Losses {'tok2vec': 0.0, 'tagger': 0.0, 'parser': 0.0, 'ner': 2.6695113763256053}\n",
      "Iteration 43, Losses {'tok2vec': 0.0, 'tagger': 0.0, 'parser': 0.0, 'ner': 2.50920719814456}\n",
      "Iteration 44, Losses {'tok2vec': 0.0, 'tagger': 0.0, 'parser': 0.0, 'ner': 3.470988924174735}\n",
      "Iteration 45, Losses {'tok2vec': 0.0, 'tagger': 0.0, 'parser': 0.0, 'ner': 7.0049577198053035}\n",
      "Iteration 46, Losses {'tok2vec': 0.0, 'tagger': 0.0, 'parser': 0.0, 'ner': 6.709909174264715}\n",
      "Iteration 47, Losses {'tok2vec': 0.0, 'tagger': 0.0, 'parser': 0.0, 'ner': 5.217891258874961}\n",
      "Iteration 48, Losses {'tok2vec': 0.0, 'tagger': 0.0, 'parser': 0.0, 'ner': 5.449173343810294}\n",
      "Iteration 49, Losses {'tok2vec': 0.0, 'tagger': 0.0, 'parser': 0.0, 'ner': 14.530544409474023}\n",
      "Iteration 50, Losses {'tok2vec': 0.0, 'tagger': 0.0, 'parser': 0.0, 'ner': 6.436787386338974}\n",
      "Iteration 51, Losses {'tok2vec': 0.0, 'tagger': 0.0, 'parser': 0.0, 'ner': 2.0024682548889046}\n",
      "Iteration 52, Losses {'tok2vec': 0.0, 'tagger': 0.0, 'parser': 0.0, 'ner': 5.356299200075121}\n",
      "Iteration 53, Losses {'tok2vec': 0.0, 'tagger': 0.0, 'parser': 0.0, 'ner': 9.187538421331869}\n",
      "Iteration 54, Losses {'tok2vec': 0.0, 'tagger': 0.0, 'parser': 0.0, 'ner': 2.1245359064448825}\n",
      "Iteration 55, Losses {'tok2vec': 0.0, 'tagger': 0.0, 'parser': 0.0, 'ner': 2.1603636623768545}\n",
      "Iteration 56, Losses {'tok2vec': 0.0, 'tagger': 0.0, 'parser': 0.0, 'ner': 3.8040760295247575}\n",
      "Iteration 57, Losses {'tok2vec': 0.0, 'tagger': 0.0, 'parser': 0.0, 'ner': 0.3990683515538618}\n",
      "Iteration 58, Losses {'tok2vec': 0.0, 'tagger': 0.0, 'parser': 0.0, 'ner': 6.653380064555862}\n",
      "Iteration 59, Losses {'tok2vec': 0.0, 'tagger': 0.0, 'parser': 0.0, 'ner': 11.530802234169466}\n",
      "Iteration 60, Losses {'tok2vec': 0.0, 'tagger': 0.0, 'parser': 0.0, 'ner': 2.6486368545394803}\n",
      "Iteration 61, Losses {'tok2vec': 0.0, 'tagger': 0.0, 'parser': 0.0, 'ner': 6.368065156213149}\n",
      "Iteration 62, Losses {'tok2vec': 0.0, 'tagger': 0.0, 'parser': 0.0, 'ner': 1.9945630100038403}\n",
      "Iteration 63, Losses {'tok2vec': 0.0, 'tagger': 0.0, 'parser': 0.0, 'ner': 4.530095588666292}\n",
      "Iteration 64, Losses {'tok2vec': 0.0, 'tagger': 0.0, 'parser': 0.0, 'ner': 9.512100080812008}\n",
      "Iteration 65, Losses {'tok2vec': 0.0, 'tagger': 0.0, 'parser': 0.0, 'ner': 7.2740553102178644}\n",
      "Iteration 66, Losses {'tok2vec': 0.0, 'tagger': 0.0, 'parser': 0.0, 'ner': 5.643946602700077}\n",
      "Iteration 67, Losses {'tok2vec': 0.0, 'tagger': 0.0, 'parser': 0.0, 'ner': 0.5110317944122434}\n",
      "Iteration 68, Losses {'tok2vec': 0.0, 'tagger': 0.0, 'parser': 0.0, 'ner': 2.330532587354656}\n",
      "Iteration 69, Losses {'tok2vec': 0.0, 'tagger': 0.0, 'parser': 0.0, 'ner': 11.892150304110482}\n",
      "Iteration 70, Losses {'tok2vec': 0.0, 'tagger': 0.0, 'parser': 0.0, 'ner': 5.19482196005582}\n",
      "Iteration 71, Losses {'tok2vec': 0.0, 'tagger': 0.0, 'parser': 0.0, 'ner': 4.371294818228607}\n",
      "Iteration 72, Losses {'tok2vec': 0.0, 'tagger': 0.0, 'parser': 0.0, 'ner': 6.061033186365387}\n",
      "Iteration 73, Losses {'tok2vec': 0.0, 'tagger': 0.0, 'parser': 0.0, 'ner': 0.25594941047117087}\n",
      "Iteration 74, Losses {'tok2vec': 0.0, 'tagger': 0.0, 'parser': 0.0, 'ner': 2.4288267040495164}\n",
      "Iteration 75, Losses {'tok2vec': 0.0, 'tagger': 0.0, 'parser': 0.0, 'ner': 1.0582779701211351}\n",
      "Iteration 76, Losses {'tok2vec': 0.0, 'tagger': 0.0, 'parser': 0.0, 'ner': 2.0049100813331058}\n",
      "Iteration 77, Losses {'tok2vec': 0.0, 'tagger': 0.0, 'parser': 0.0, 'ner': 11.748866518766263}\n",
      "Iteration 78, Losses {'tok2vec': 0.0, 'tagger': 0.0, 'parser': 0.0, 'ner': 2.089553318946797}\n",
      "Iteration 79, Losses {'tok2vec': 0.0, 'tagger': 0.0, 'parser': 0.0, 'ner': 7.065718162917044}\n",
      "Iteration 80, Losses {'tok2vec': 0.0, 'tagger': 0.0, 'parser': 0.0, 'ner': 1.9345402310181037}\n",
      "Iteration 81, Losses {'tok2vec': 0.0, 'tagger': 0.0, 'parser': 0.0, 'ner': 2.04430072311526}\n",
      "Iteration 82, Losses {'tok2vec': 0.0, 'tagger': 0.0, 'parser': 0.0, 'ner': 1.9739606945556416}\n",
      "Iteration 83, Losses {'tok2vec': 0.0, 'tagger': 0.0, 'parser': 0.0, 'ner': 0.9253446043224353}\n",
      "Iteration 84, Losses {'tok2vec': 0.0, 'tagger': 0.0, 'parser': 0.0, 'ner': 0.2375006430007305}\n",
      "Iteration 85, Losses {'tok2vec': 0.0, 'tagger': 0.0, 'parser': 0.0, 'ner': 0.00791653500162501}\n",
      "Iteration 86, Losses {'tok2vec': 0.0, 'tagger': 0.0, 'parser': 0.0, 'ner': 1.3069270030787214}\n",
      "Iteration 87, Losses {'tok2vec': 0.0, 'tagger': 0.0, 'parser': 0.0, 'ner': 0.1480971588921754}\n",
      "Iteration 88, Losses {'tok2vec': 0.0, 'tagger': 0.0, 'parser': 0.0, 'ner': 1.4716674826726492}\n",
      "Iteration 89, Losses {'tok2vec': 0.0, 'tagger': 0.0, 'parser': 0.0, 'ner': 1.7874955597029494}\n",
      "Iteration 90, Losses {'tok2vec': 0.0, 'tagger': 0.0, 'parser': 0.0, 'ner': 1.393056741282722}\n",
      "Iteration 91, Losses {'tok2vec': 0.0, 'tagger': 0.0, 'parser': 0.0, 'ner': 1.897299985898107}\n",
      "Iteration 92, Losses {'tok2vec': 0.0, 'tagger': 0.0, 'parser': 0.0, 'ner': 1.8058671187624882}\n",
      "Iteration 93, Losses {'tok2vec': 0.0, 'tagger': 0.0, 'parser': 0.0, 'ner': 3.461801761350886}\n",
      "Iteration 94, Losses {'tok2vec': 0.0, 'tagger': 0.0, 'parser': 0.0, 'ner': 3.836135801825103}\n",
      "Iteration 95, Losses {'tok2vec': 0.0, 'tagger': 0.0, 'parser': 0.0, 'ner': 0.035269578208185125}\n",
      "Iteration 96, Losses {'tok2vec': 0.0, 'tagger': 0.0, 'parser': 0.0, 'ner': 0.0012005599169767243}\n",
      "Iteration 97, Losses {'tok2vec': 0.0, 'tagger': 0.0, 'parser': 0.0, 'ner': 1.9771102852900395}\n",
      "Iteration 98, Losses {'tok2vec': 0.0, 'tagger': 0.0, 'parser': 0.0, 'ner': 0.3661525862080921}\n",
      "Iteration 99, Losses {'tok2vec': 0.0, 'tagger': 0.0, 'parser': 0.0, 'ner': 1.9934997529446838}\n"
     ]
    }
   ],
   "source": [
    "import spacy\n",
    "from spacy.training.example import Example\n",
    "from spacy.util import minibatch, compounding\n",
    "import random\n",
    "\n",
    "#  spaCy Modells Laden\n",
    "nlp = spacy.load(\"en_core_web_sm\")\n",
    "\n",
    "#  NER-Komponente Hinzufügen\n",
    "if \"ner\" not in nlp.pipe_names:\n",
    "    ner = nlp.create_pipe(\"ner\")\n",
    "    nlp.add_pipe(ner, last=True)\n",
    "else:\n",
    "    ner = nlp.get_pipe(\"ner\")\n",
    "\n",
    "# Hinzufügen der Labels \n",
    "ner.add_label(\"RESTAURANT\")\n",
    "ner.add_label(\"DISH\")\n",
    "ner.add_label(\"LOCATION\")\n",
    "\n",
    "\n",
    "# Training des Modells\n",
    "optimizer = nlp.begin_training()\n",
    "\n",
    "for itn in range(100):\n",
    "    random.shuffle(TRAIN_DATA)\n",
    "    losses = {}\n",
    "    batches = minibatch(TRAIN_DATA, size=compounding(4.0, 32.0, 1.001))\n",
    "    for batch in batches:\n",
    "        texts, annotations = zip(*batch)\n",
    "        # Konvertiere die Trainingsdaten in das neue Example-Format\n",
    "        examples = [Example.from_dict(nlp.make_doc(text), annotation) for text, annotation in zip(texts, annotations)]\n",
    "        # Update mit dem neuen Format\n",
    "        nlp.update(examples, drop=0.5, losses=losses)\n",
    "    print(f\"Iteration {itn}, Losses {losses}\")\n",
    "\n",
    "# Speichern des trainierten Modells\n",
    "nlp.to_disk(\"ner_restaurant_model\")"
   ]
  },
  {
   "cell_type": "code",
   "execution_count": 10,
   "metadata": {},
   "outputs": [
    {
     "name": "stderr",
     "output_type": "stream",
     "text": [
      "c:\\Users\\habou\\anaconda3\\lib\\site-packages\\spacy\\pipeline\\attributeruler.py:149: UserWarning: [W036] The component 'matcher' does not have any patterns defined.\n",
      "  matches = self.matcher(doc, allow_missing=True, as_spans=False)\n",
      "c:\\Users\\habou\\anaconda3\\lib\\site-packages\\spacy\\pipeline\\lemmatizer.py:211: UserWarning: [W108] The rule-based lemmatizer did not find POS annotation for one or more tokens. Check that your pipeline includes components that assign token.pos, typically 'tagger'+'attribute_ruler' or 'morphologizer'.\n",
      "  warnings.warn(Warnings.W108)\n"
     ]
    },
    {
     "name": "stdout",
     "output_type": "stream",
     "text": [
      "Review: also combo like burger fri beer decent deal\n",
      " - Entität: burger, Label: DISH\n",
      "\n",
      "\n",
      "Review: burger good beef cook right\n",
      " - Entität: burger, Label: DISH\n",
      "\n",
      "\n",
      "Review: definit go back\n",
      " - Entität: definit, Label: DISH\n",
      " - Entität: back, Label: RESTAURANT\n",
      "\n",
      "\n",
      "Review: come like experienc underwhelm relationship parti wait person ask break\n",
      " - Entität: break, Label: RESTAURANT\n",
      "\n",
      "\n",
      "Review: poor batter meat ratio made chicken tender unsatisfi\n",
      " - Entität: batter, Label: DISH\n",
      "\n",
      "\n",
      "Review: better atmospher\n",
      " - Entität: better, Label: DISH\n",
      "\n",
      "\n",
      "Review: kind hard mess steak\n",
      " - Entität: steak, Label: DISH\n",
      "\n",
      "\n",
      "Review: guy steak steak love son steak best worst place said best steak ever eaten\n",
      " - Entität: steak, Label: DISH\n",
      " - Entität: steak, Label: DISH\n",
      " - Entität: steak, Label: DISH\n",
      "\n",
      "\n",
      "Review: phenomen food servic ambianc\n",
      " - Entität: phenomen, Label: DISH\n",
      "\n",
      "\n",
      "Review: good select food includ massiv meatloaf sandwich crispi chicken wrap delish tuna melt tasti burger\n",
      " - Entität: burger, Label: DISH\n",
      "\n",
      "\n",
      "Review: order voodoo pasta first time realli excel pasta sinc go gluten free sever year ago\n",
      " - Entität: pasta, Label: DISH\n",
      "\n",
      "\n",
      "Review: delici\n",
      " - Entität: delici, Label: DISH\n",
      "\n",
      "\n",
      "Review: burger absolut flavor meat total bland burger overcook charcoal flavor\n",
      " - Entität: burger, Label: DISH\n",
      "\n",
      "\n",
      "Review: best place go tasti bowl pho\n",
      " - Entität: pho, Label: DISH\n",
      "\n",
      "\n",
      "Review: lobster bisqu bussel sprout risotto filet need salt pepper cours none tabl\n",
      " - Entität: lobster, Label: LOCATION\n",
      "\n",
      "\n",
      "Review: go gave star rate pleas know third time eat bachi burger write review\n",
      " - Entität: burger, Label: DISH\n",
      "\n",
      "\n",
      "Review: potato chip order sad could probabl count mani chip box probabl around\n",
      " - Entität: potato, Label: DISH\n",
      "\n",
      "\n",
      "Review: burger got gold standard burger kind disappoint\n",
      " - Entität: burger, Label: DISH\n",
      "\n",
      "\n",
      "Review: classi warm atmospher fun fresh appet succul steak basebal steak\n",
      " - Entität: steak, Label: DISH\n",
      "\n",
      "\n",
      "Review: delici\n",
      " - Entität: delici, Label: DISH\n",
      "\n",
      "\n",
      "Review: disgrac\n",
      " - Entität: disgrac, Label: DISH\n",
      "\n",
      "\n",
      "Review: food gooodd\n",
      " - Entität: gooodd, Label: DISH\n",
      "\n",
      "\n",
      "Review: vanilla ice cream creami smooth profiterol choux pastri fresh enough\n",
      " - Entität: vanilla, Label: DISH\n",
      "\n",
      "\n",
      "Review: steak well trim also perfectli cook\n",
      " - Entität: steak, Label: DISH\n",
      "\n",
      "\n",
      "Review: group claim would handl us beauti\n",
      " - Entität: beauti, Label: RESTAURANT\n",
      "\n",
      "\n",
      "Review: much pasta love homemad hand made pasta thin pizza\n",
      " - Entität: pasta, Label: DISH\n",
      "\n",
      "\n",
      "Review: gone go\n",
      " - Entität: gone, Label: DISH\n",
      "\n",
      "\n",
      "Review: burger amaz\n",
      " - Entität: burger, Label: DISH\n",
      "\n",
      "\n",
      "Review: great steak great side great wine amaz dessert\n",
      " - Entität: dessert, Label: DISH\n",
      "\n",
      "\n",
      "Review: steak shrimp opinion best entre gc\n",
      " - Entität: steak, Label: DISH\n",
      "\n",
      "\n",
      "Review: believ place great stop huge belli hanker sushi\n",
      " - Entität: sushi, Label: DISH\n",
      "\n",
      "\n",
      "Review: steak recommend\n",
      " - Entität: steak, Label: DISH\n",
      "\n",
      "\n",
      "Review: sushi lover avoid place mean\n",
      " - Entität: sushi, Label: DISH\n",
      "\n",
      "\n",
      "Review: dessert panna cotta amaz\n",
      " - Entität: dessert, Label: DISH\n",
      "\n",
      "\n",
      "Review: damn good steak\n",
      " - Entität: steak, Label: DISH\n",
      "\n",
      "\n",
      "Review: steak amaz rge fillet relleno best seafood plate ever\n",
      " - Entität: steak, Label: DISH\n",
      "\n",
      "\n",
      "Review: realli impress strip steak\n",
      " - Entität: steak, Label: DISH\n",
      "\n",
      "\n",
      "Review: place clean food oh stale\n",
      " - Entität: stale, Label: DISH\n",
      "\n",
      "\n",
      "Review: classic main lobster roll fantast\n",
      " - Entität: lobster, Label: LOCATION\n",
      "\n",
      "\n",
      "Review: singl employe came see ok even need water refil final serv us food\n",
      " - Entität: serv, Label: DISH\n",
      "\n",
      "\n",
      "Review: aw servic\n",
      " - Entität: servic, Label: RESTAURANT\n",
      "\n",
      "\n",
      "Review: love sushi found kabuki price hip servic\n",
      " - Entität: sushi, Label: DISH\n",
      "\n",
      "\n",
      "Review: sushi strip place go\n",
      " - Entität: sushi, Label: DISH\n",
      "\n",
      "\n",
      "Review: go place gyro\n",
      " - Entität: gyro, Label: DISH\n",
      "\n",
      "\n",
      "Review: burger good pizza use amaz doughi flavorless\n",
      " - Entität: burger, Label: DISH\n",
      "\n",
      "\n",
      "Review: disappoint dinner went elsewher dessert\n",
      " - Entität: dessert, Label: DISH\n",
      "\n",
      "\n",
      "Review: fri hot neither burger\n",
      " - Entität: burger, Label: DISH\n",
      "\n",
      "\n",
      "Review: ha long bay bit flop\n",
      " - Entität: long, Label: LOCATION\n",
      "\n",
      "\n"
     ]
    }
   ],
   "source": [
    "# Laden des trainierten NER-Modells\n",
    "nlp_ner = spacy.load(\"ner_restaurant_model\")\n",
    "\n",
    "for review in reviews:\n",
    "    doc = nlp_ner(review)\n",
    "    if doc.ents:\n",
    "        print(f\"Review: {review}\")\n",
    "        for ent in doc.ents:\n",
    "            print(f\" - Entität: {ent.text}, Label: {ent.label_}\")\n",
    "        print(\"\\n\")\n"
   ]
  },
  {
   "cell_type": "code",
   "execution_count": null,
   "metadata": {},
   "outputs": [],
   "source": []
  }
 ],
 "metadata": {
  "kernelspec": {
   "display_name": "base",
   "language": "python",
   "name": "python3"
  },
  "language_info": {
   "codemirror_mode": {
    "name": "ipython",
    "version": 3
   },
   "file_extension": ".py",
   "mimetype": "text/x-python",
   "name": "python",
   "nbconvert_exporter": "python",
   "pygments_lexer": "ipython3",
   "version": "3.9.13"
  }
 },
 "nbformat": 4,
 "nbformat_minor": 2
}
